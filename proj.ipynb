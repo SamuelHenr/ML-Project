{
 "cells": [
  {
   "cell_type": "code",
   "execution_count": 1,
   "id": "17cb9124-d340-49f0-b564-810cfbe8d5ea",
   "metadata": {},
   "outputs": [],
   "source": [
    "import pandas as pd\n",
    "import numpy as np\n",
    "\n",
    "df = pd.read_csv('dataset.csv', sep=',')"
   ]
  },
  {
   "cell_type": "code",
   "execution_count": 2,
   "id": "d792ce88-8429-4a3e-a59a-26f3a4bfc3b7",
   "metadata": {},
   "outputs": [],
   "source": [
    "features = ['Flow_ID', 'Src_IP', 'Src_Port', 'Dst_IP', 'Dst_Port', 'Protocol', 'Timestamp', 'Flow_Duration',\n",
    "            'Tot_Fwd_Pkts', 'Tot_Bwd_Pkts', 'TotLen_Fwd_Pkts', 'TotLen_Bwd_Pkts', 'Fwd_Pkt_Len_Max',\n",
    "            'Fwd_Pkt_Len_Min', 'Fwd_Pkt_Len_Mean', 'Fwd_Pkt_Len_Std', 'Bwd_Pkt_Len_Max', 'Bwd_Pkt_Len_Min',\n",
    "            'Bwd_Pkt_Len_Mean', 'Bwd_Pkt_Len_Std', 'Flow_Byts/s', 'Flow_Pkts/s', 'Flow_IAT_Mean', 'Flow_IAT_Std',\n",
    "            'Flow_IAT_Max', 'Flow_IAT_Min', 'Fwd_IAT_Tot', 'Fwd_IAT_Mean', 'Fwd_IAT_Std', 'Fwd_IAT_Max',\n",
    "            'Fwd_IAT_Min', 'Bwd_IAT_Tot', 'Bwd_IAT_Mean', 'Bwd_IAT_Std', 'Bwd_IAT_Max', 'Bwd_IAT_Min',\n",
    "            'Fwd_PSH_Flags', 'Bwd_PSH_Flags', 'Fwd_URG_Flags', 'Bwd_URG_Flags', 'Fwd_Header_Len', 'Bwd_Header_Len',\n",
    "            'Fwd_Pkts/s', 'Bwd_Pkts/s', 'Pkt_Len_Min', 'Pkt_Len_Max', 'Pkt_Len_Mean', 'Pkt_Len_Std', 'Pkt_Len_Var',\n",
    "            'FIN_Flag_Cnt', 'SYN_Flag_Cnt', 'RST_Flag_Cnt', 'PSH_Flag_Cnt', 'ACK_Flag_Cnt', 'URG_Flag_Cnt',\n",
    "            'CWE_Flag_Count', 'ECE_Flag_Cnt', 'Down/Up_Ratio', 'Pkt_Size_Avg', 'Fwd_Seg_Size_Avg',\n",
    "            'Bwd_Seg_Size_Avg', 'Fwd_Byts/b_Avg', 'Fwd_Pkts/b_Avg', 'Fwd_Blk_Rate_Avg', 'Bwd_Byts/b_Avg',\n",
    "            'Bwd_Pkts/b_Avg', 'Bwd_Blk_Rate_Avg', 'Subflow_Fwd_Pkts', 'Subflow_Fwd_Byts', 'Subflow_Bwd_Pkts',\n",
    "            'Subflow_Bwd_Byts', 'Init_Fwd_Win_Byts', 'Init_Bwd_Win_Byts', 'Fwd_Act_Data_Pkts', 'Fwd_Seg_Size_Min',\n",
    "            'Active_Mean', 'Active_Std', 'Active_Max', 'Active_Min', 'Idle_Mean', 'Idle_Std', 'Idle_Max', 'Idle_Min',\n",
    "            'Label', 'Cat', 'Sub_Cat']\n",
    "\n",
    "chosen_features = ['Src_IP', 'Src_Port', 'Dst_IP', 'Dst_Port', 'Flow_Duration', 'Tot_Fwd_Pkts', 'Tot_Bwd_Pkts',\n",
    "                   'TotLen_Fwd_Pkts', 'TotLen_Bwd_Pkts', 'Fwd_Pkt_Len_Max', 'Fwd_Pkt_Len_Min', 'Fwd_Pkt_Len_Mean',\n",
    "                   'Fwd_Pkt_Len_Std', 'Bwd_Pkt_Len_Max', 'Bwd_Pkt_Len_Min', 'Bwd_Pkt_Len_Mean', 'Bwd_Pkt_Len_Std',\n",
    "                   'Flow_Byts/s', 'Flow_Pkts/s', 'Flow_IAT_Mean', 'Flow_IAT_Std', 'Flow_IAT_Max', 'Flow_IAT_Min',\n",
    "                   'Fwd_IAT_Tot', 'Fwd_IAT_Mean', 'Fwd_IAT_Std', 'Fwd_IAT_Max', 'Fwd_IAT_Min', 'Bwd_IAT_Tot',\n",
    "                   'Bwd_IAT_Mean', 'Bwd_IAT_Std', 'Bwd_IAT_Max', 'Bwd_IAT_Min', 'Fwd_Header_Len', 'Bwd_Header_Len',\n",
    "                   'Fwd_Pkts/s', 'Bwd_Pkts/s', 'Pkt_Len_Min', 'Pkt_Len_Max', 'Pkt_Len_Mean', 'Pkt_Len_Std',\n",
    "                   'Pkt_Len_Var', 'Pkt_Size_Avg', 'Fwd_Seg_Size_Avg', 'Bwd_Seg_Size_Avg', 'Subflow_Fwd_Pkts',\n",
    "                   'Subflow_Fwd_Byts', 'Subflow_Bwd_Pkts', 'Subflow_Bwd_Byts', 'Init_Bwd_Win_Byts',\n",
    "                   'Fwd_Act_Data_Pkts', 'Active_Mean', 'Active_Std', 'Active_Max', 'Active_Min', 'Idle_Mean',\n",
    "                   'Idle_Std', 'Idle_Max', 'Idle_Min', 'Cat']"
   ]
  },
  {
   "cell_type": "code",
   "execution_count": 3,
   "id": "0cac8733-f04d-4451-8c1a-deea4b3e5760",
   "metadata": {},
   "outputs": [],
   "source": [
    "# print(df[:, [0, 1]])\n",
    "data = {}\n",
    "for feature in chosen_features:\n",
    "    data[feature] = df[feature]\n",
    "data = pd.DataFrame(data)"
   ]
  },
  {
   "cell_type": "code",
   "execution_count": 4,
   "id": "600b0191-b302-46f0-a9e9-166a13b4768f",
   "metadata": {},
   "outputs": [],
   "source": [
    "from sklearn import preprocessing\n",
    "for feature in chosen_features:\n",
    "    data[feature] = preprocessing.LabelEncoder().fit_transform(data[feature])"
   ]
  },
  {
   "cell_type": "code",
   "execution_count": 5,
   "id": "fa0ba071-b9ad-41e1-8a4d-a4de056d3822",
   "metadata": {},
   "outputs": [
    {
     "name": "stdout",
     "output_type": "stream",
     "text": [
      "accuracy: 99.72914019990891\n"
     ]
    }
   ],
   "source": [
    "from sklearn.tree import DecisionTreeClassifier\n",
    "from sklearn.model_selection import train_test_split\n",
    "\n",
    "X = data[chosen_features[:-1]].values\n",
    "y = data.Cat.values\n",
    "\n",
    "X_train, X_test, y_train, y_test = train_test_split(X, y, test_size=0.2, random_state=101)\n",
    "\n",
    "clf2 = DecisionTreeClassifier()\n",
    "\n",
    "clf2.fit(X_train, y_train)\n",
    "\n",
    "Score2 = clf2.score(X_test,y_test)\n",
    "\n",
    "print(\"accuracy: \" + str(Score2*100))"
   ]
  },
  {
   "cell_type": "code",
   "execution_count": 22,
   "id": "f0b536a6-0785-4ff3-b8fb-dd8eb9d1a093",
   "metadata": {},
   "outputs": [],
   "source": [
    "import random\n",
    "import math\n",
    "\n",
    "rng = np.random.RandomState(1)\n",
    "\n",
    "def shuffle_data(data, porc):\n",
    "    indexes = rng.choice(\n",
    "        np.arange(data.shape[0]),\n",
    "        size=data.shape[0],\n",
    "        replace=True,\n",
    "    )\n",
    "    indexes = indexes[:len(indexes)//porc]\n",
    "    result = data.iloc[indexes]\n",
    "    return result.loc[:, result.columns != 'Cat'].values, result.Cat.values\n",
    "\n",
    "def generate_bootstrap_sample(n, data, porc):\n",
    "    sample_data = []\n",
    "    label_data = []\n",
    "    for i in range(n):\n",
    "        sample, label = shuffle_data(data, porc)\n",
    "        sample_data.append(sample)\n",
    "        label_data.append(label)\n",
    "    return sample_data, label_data\n",
    "\n",
    "def get_trees(n_trees, x, y, max_depth):\n",
    "    decision_trees = []\n",
    "    for i in range(n_trees):\n",
    "        decision_trees.append(DecisionTreeClassifier(max_depth=max_depth))\n",
    "        decision_trees[i].fit(x[i], y[i])\n",
    "    return decision_trees\n",
    "\n",
    "def vote_majority(arr):\n",
    "    vote = {}\n",
    "    max_value = 0\n",
    "    max_index = 0\n",
    "    for result in arr:\n",
    "        if result in vote:\n",
    "            vote[result]+=1\n",
    "        else:\n",
    "            vote[result] = 1\n",
    "\n",
    "        if vote[result] > max_value:\n",
    "            max_value = vote[result]\n",
    "            max_index = result\n",
    "    return max_index\n",
    "\n",
    "def get_predictions(data, decision_trees, n_trees):\n",
    "    predictions = []\n",
    "    for i in range(n_trees):\n",
    "        predictions.append(decision_trees[i].predict(data))\n",
    "    return predictions\n",
    "\n",
    "def get_accuracy(data, y, n_trees, res):\n",
    "    hit = 0\n",
    "    for i, x in enumerate(data):\n",
    "        y_hat = []\n",
    "        for n in range(n_trees):\n",
    "            y_hat.append(res[n][i])\n",
    "    \n",
    "        if vote_majority(y_hat) == y[i]:\n",
    "            hit+=1\n",
    "\n",
    "    return (hit/len(X))*100"
   ]
  },
  {
   "cell_type": "code",
   "execution_count": 23,
   "id": "636d0b24-0d6c-4792-90b6-3bd602c53575",
   "metadata": {},
   "outputs": [],
   "source": [
    "def bagging_model(n_trees, porc_data, max_depth):\n",
    "    sample_data, label_data = generate_bootstrap_sample(n_trees, data, porc_data)\n",
    "    \n",
    "    decision_trees = get_trees(n_trees, sample_data, label_data, max_depth)\n",
    "\n",
    "    predictions = get_predictions(data[chosen_features[:-1]].values, decision_trees, n_trees)\n",
    "\n",
    "    return get_accuracy(data[chosen_features[:-1]].values, data.Cat.values, n_trees, predictions)"
   ]
  },
  {
   "cell_type": "code",
   "execution_count": 74,
   "id": "831eb962-6031-4e2f-b4d3-82633b15b797",
   "metadata": {},
   "outputs": [
    {
     "name": "stdout",
     "output_type": "stream",
     "text": [
      "Accuracy: 99.67033300680906\n"
     ]
    }
   ],
   "source": [
    "acc = []\n",
    "acc_n = [2]\n",
    "acc_n.append(bagging_model(2, 2, 25))\n",
    "print(\"Accuracy: \" + str(acc_n[1]))"
   ]
  },
  {
   "cell_type": "code",
   "execution_count": 75,
   "id": "714c84e4-322f-4909-8314-ec54e95b6074",
   "metadata": {},
   "outputs": [
    {
     "name": "stdout",
     "output_type": "stream",
     "text": [
      "Accuracy: 99.53993636771852\n"
     ]
    }
   ],
   "source": [
    "acc_n.append(bagging_model(2, 4, 25))\n",
    "print(\"Accuracy: \" + str(acc_n[2]))"
   ]
  },
  {
   "cell_type": "code",
   "execution_count": 76,
   "id": "922f4bb2-b7f8-44e3-8270-4d3e75a687cf",
   "metadata": {},
   "outputs": [
    {
     "name": "stdout",
     "output_type": "stream",
     "text": [
      "Accuracy: 99.43606649589395\n"
     ]
    }
   ],
   "source": [
    "acc_n.append(bagging_model(2, 5, 25))\n",
    "print(\"Accuracy: \" + str(acc_n[3]))"
   ]
  },
  {
   "cell_type": "code",
   "execution_count": 77,
   "id": "2a899501-5bb6-40e7-bd7d-2d36485b9f64",
   "metadata": {},
   "outputs": [
    {
     "name": "stdout",
     "output_type": "stream",
     "text": [
      "Accuracy: 99.19972258754233\n",
      "[[2, 99.67033300680906, 99.53993636771852, 99.43606649589395, 99.19972258754233]]\n"
     ]
    }
   ],
   "source": [
    "acc_n.append(bagging_model(2, 10, 25))\n",
    "print(\"Accuracy: \" + str(acc_n[4]))\n",
    "acc.append(acc_n)\n",
    "print(acc)"
   ]
  },
  {
   "cell_type": "code",
   "execution_count": 78,
   "id": "cf3d5990-b87e-41f5-a0cd-769a60e48036",
   "metadata": {},
   "outputs": [
    {
     "name": "stdout",
     "output_type": "stream",
     "text": [
      "Accuracy: 99.76669228790172\n"
     ]
    }
   ],
   "source": [
    "acc_n = [3]\n",
    "acc_n.append(bagging_model(3, 2, 25))\n",
    "print(\"Accuracy: \" + str(acc_n[1]))"
   ]
  },
  {
   "cell_type": "code",
   "execution_count": 79,
   "id": "ad637ff6-95a2-4c9d-9a38-b0ed5fe5e78f",
   "metadata": {},
   "outputs": [
    {
     "name": "stdout",
     "output_type": "stream",
     "text": [
      "Accuracy: 99.66458021390801\n"
     ]
    }
   ],
   "source": [
    "acc_n.append(bagging_model(3, 4, 25))\n",
    "print(\"Accuracy: \" + str(acc_n[2]))"
   ]
  },
  {
   "cell_type": "code",
   "execution_count": 80,
   "id": "d0380a0e-b8bf-472f-8671-cf43a1d163c9",
   "metadata": {},
   "outputs": [
    {
     "name": "stdout",
     "output_type": "stream",
     "text": [
      "Accuracy: 99.61264527799572\n"
     ]
    }
   ],
   "source": [
    "acc_n.append(bagging_model(3, 5, 25))\n",
    "print(\"Accuracy: \" + str(acc_n[3]))"
   ]
  },
  {
   "cell_type": "code",
   "execution_count": 81,
   "id": "f55e056c-6c6c-42d5-bfb8-7a91089f0bd0",
   "metadata": {},
   "outputs": [
    {
     "name": "stdout",
     "output_type": "stream",
     "text": [
      "Accuracy: 99.44693288248482\n",
      "[[2, 99.67033300680906, 99.53993636771852, 99.43606649589395, 99.19972258754233], [3, 99.76669228790172, 99.66458021390801, 99.61264527799572, 99.44693288248482]]\n"
     ]
    }
   ],
   "source": [
    "acc_n.append(bagging_model(3, 10, 25))\n",
    "print(\"Accuracy: \" + str(acc_n[4]))\n",
    "acc.append(acc_n)\n",
    "print(acc)"
   ]
  },
  {
   "cell_type": "code",
   "execution_count": 82,
   "id": "3f26705a-554d-44e0-a24a-1faf936d709c",
   "metadata": {},
   "outputs": [
    {
     "name": "stdout",
     "output_type": "stream",
     "text": [
      "Accuracy: 99.78107427015435\n"
     ]
    }
   ],
   "source": [
    "acc_n = [5]\n",
    "acc_n.append(bagging_model(5, 2, 25))\n",
    "print(\"Accuracy: \" + str(acc_n[1]))"
   ]
  },
  {
   "cell_type": "code",
   "execution_count": 83,
   "id": "60d03e25-7492-41b8-b062-38682ca1a48d",
   "metadata": {},
   "outputs": [
    {
     "name": "stdout",
     "output_type": "stream",
     "text": [
      "Accuracy: 99.71683474942591\n"
     ]
    }
   ],
   "source": [
    "acc_n.append(bagging_model(5, 4, 25))\n",
    "print(\"Accuracy: \" + str(acc_n[2]))"
   ]
  },
  {
   "cell_type": "code",
   "execution_count": 84,
   "id": "a4015230-c1dc-42b6-b9e8-c8bbfff16bc2",
   "metadata": {},
   "outputs": [
    {
     "name": "stdout",
     "output_type": "stream",
     "text": [
      "Accuracy: 99.66106461824626\n"
     ]
    }
   ],
   "source": [
    "acc_n.append(bagging_model(5, 5, 25))\n",
    "print(\"Accuracy: \" + str(acc_n[3]))"
   ]
  },
  {
   "cell_type": "code",
   "execution_count": 85,
   "id": "c044ed87-d9e7-48b5-a5ad-4af6f2f2908f",
   "metadata": {},
   "outputs": [
    {
     "name": "stdout",
     "output_type": "stream",
     "text": [
      "Accuracy: 99.5009452158336\n",
      "[[2, 99.67033300680906, 99.53993636771852, 99.43606649589395, 99.19972258754233], [3, 99.76669228790172, 99.66458021390801, 99.61264527799572, 99.44693288248482], [5, 99.78107427015435, 99.71683474942591, 99.66106461824626, 99.5009452158336]]\n"
     ]
    }
   ],
   "source": [
    "acc_n.append(bagging_model(5, 10, 25))\n",
    "print(\"Accuracy: \" + str(acc_n[4]))\n",
    "acc.append(acc_n)\n",
    "print(acc)"
   ]
  },
  {
   "cell_type": "code",
   "execution_count": 90,
   "id": "746ccc3a-be9a-4a66-8430-5e07af1d32ab",
   "metadata": {},
   "outputs": [
    {
     "name": "stdout",
     "output_type": "stream",
     "text": [
      "Accuracy: 99.83284940626383\n"
     ]
    }
   ],
   "source": [
    "acc_n = [10]\n",
    "acc_n.append(bagging_model(10, 2, 25))\n",
    "print(\"Accuracy: \" + str(acc_n[1]))"
   ]
  },
  {
   "cell_type": "code",
   "execution_count": 91,
   "id": "8fb59343-a56f-41e7-aca8-6bc879f1ffad",
   "metadata": {},
   "outputs": [
    {
     "name": "stdout",
     "output_type": "stream",
     "text": [
      "Accuracy: 99.72834033522803\n"
     ]
    }
   ],
   "source": [
    "acc_n.append(bagging_model(10, 4, 25))\n",
    "print(\"Accuracy: \" + str(acc_n[2]))"
   ]
  },
  {
   "cell_type": "code",
   "execution_count": 92,
   "id": "c48e6a5f-3819-4a15-81fd-ab3f794c2154",
   "metadata": {},
   "outputs": [
    {
     "name": "stdout",
     "output_type": "stream",
     "text": [
      "Accuracy: 99.67640539931574\n"
     ]
    }
   ],
   "source": [
    "acc_n.append(bagging_model(10, 5, 25))\n",
    "print(\"Accuracy: \" + str(acc_n[3]))"
   ]
  },
  {
   "cell_type": "code",
   "execution_count": 93,
   "id": "14729f7e-d25c-4c3b-beb3-514c01b000fd",
   "metadata": {},
   "outputs": [
    {
     "name": "stdout",
     "output_type": "stream",
     "text": [
      "Accuracy: 99.54313236377466\n",
      "[[2, 99.67033300680906, 99.53993636771852, 99.43606649589395, 99.19972258754233], [3, 99.76669228790172, 99.66458021390801, 99.61264527799572, 99.44693288248482], [5, 99.78107427015435, 99.71683474942591, 99.66106461824626, 99.5009452158336], [10, 99.83284940626383, 99.72834033522803, 99.67640539931574, 99.54313236377466]]\n"
     ]
    }
   ],
   "source": [
    "acc_n.append(bagging_model(10, 10, 25))\n",
    "print(\"Accuracy: \" + str(acc_n[4]))\n",
    "acc.append(acc_n)\n",
    "print(acc)"
   ]
  },
  {
   "cell_type": "code",
   "execution_count": 94,
   "id": "a8fbec4d-387b-4dec-b834-e88b0c8954ac",
   "metadata": {},
   "outputs": [
    {
     "name": "stdout",
     "output_type": "stream",
     "text": [
      "╒════╤═════════╤═════════╤═════════╤═════════╕\n",
      "│    │     50% │     25% │     20% │     10% │\n",
      "╞════╪═════════╪═════════╪═════════╪═════════╡\n",
      "│  2 │ 99.6703 │ 99.5399 │ 99.4361 │ 99.1997 │\n",
      "├────┼─────────┼─────────┼─────────┼─────────┤\n",
      "│  3 │ 99.7667 │ 99.6646 │ 99.6126 │ 99.4469 │\n",
      "├────┼─────────┼─────────┼─────────┼─────────┤\n",
      "│  5 │ 99.7811 │ 99.7168 │ 99.6611 │ 99.5009 │\n",
      "├────┼─────────┼─────────┼─────────┼─────────┤\n",
      "│ 10 │ 99.8328 │ 99.7283 │ 99.6764 │ 99.5431 │\n",
      "╘════╧═════════╧═════════╧═════════╧═════════╛\n"
     ]
    }
   ],
   "source": [
    "from tabulate import tabulate\n",
    "\n",
    "table = [['', '50%', '25%', '20%', '10%'], acc[0], acc[1], acc[2], acc[3]]\n",
    "print(tabulate(table, headers='firstrow', tablefmt='fancy_grid'))"
   ]
  }
 ],
 "metadata": {
  "kernelspec": {
   "display_name": "Python 3 (ipykernel)",
   "language": "python",
   "name": "python3"
  },
  "language_info": {
   "codemirror_mode": {
    "name": "ipython",
    "version": 3
   },
   "file_extension": ".py",
   "mimetype": "text/x-python",
   "name": "python",
   "nbconvert_exporter": "python",
   "pygments_lexer": "ipython3",
   "version": "3.10.6"
  }
 },
 "nbformat": 4,
 "nbformat_minor": 5
}
